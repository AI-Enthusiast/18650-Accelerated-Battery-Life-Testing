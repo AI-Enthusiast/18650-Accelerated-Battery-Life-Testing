{
 "cells": [
  {
   "cell_type": "markdown",
   "metadata": {},
   "source": [
    "# 18650 Battery Life: Survival Analysis vs Machine Learning\n",
    "\n",
    "## Aryan Bhardwaj, Cormac Dacker, Tyler Gomez Riddick, Avery Pike\n",
    "\n",
    "### Data Preprocessing"
   ]
  }
 ],
 "metadata": {
  "language_info": {
   "name": "python"
  }
 },
 "nbformat": 4,
 "nbformat_minor": 2
}
