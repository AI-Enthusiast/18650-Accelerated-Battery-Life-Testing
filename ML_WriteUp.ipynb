{
 "cells": [
  {
   "cell_type": "markdown",
   "metadata": {},
   "source": [
    "# 18650 Battery Life: Survival Analysis vs Machine Learning\n",
    "\n",
    "### Aryan Bhardwaj, Cormac Dacker, Tyler Gomez Riddick, Avery Pike\n",
    "\n",
    "## Data Preprocessing\n",
    "\n",
    "### Data Loading"
   ]
  },
  {
   "cell_type": "code",
   "execution_count": 3,
   "metadata": {},
   "outputs": [],
   "source": [
    "import os\n",
    "import glob  # pip install glob2\n",
    "import pandas as pd\n",
    "import warnings\n",
    "import time\n",
    "from tqdm import tqdm  # pip install tqdm\n",
    "import sklearn\n",
    "import numpy as np\n"
   ]
  },
  {
   "cell_type": "code",
   "execution_count": 16,
   "metadata": {},
   "outputs": [
    {
     "ename": "FileNotFoundError",
     "evalue": "[WinError 3] The system cannot find the path specified: 'C:\\\\Users\\\\tyler\\\\.vscode\\\\Capstone\\\\env\\\\18650-Accelerated-Battery-Life-Testing\\\\battery_alt_dataset\\\\second_life_batteries/battery_alt_dataset/regular_alt_batteries'",
     "output_type": "error",
     "traceback": [
      "\u001b[1;31m---------------------------------------------------------------------------\u001b[0m",
      "\u001b[1;31mFileNotFoundError\u001b[0m                         Traceback (most recent call last)",
      "Cell \u001b[1;32mIn[16], line 66\u001b[0m\n\u001b[0;32m     64\u001b[0m \u001b[38;5;28;01mif\u001b[39;00m \u001b[38;5;18m__name__\u001b[39m \u001b[38;5;241m==\u001b[39m \u001b[38;5;124m'\u001b[39m\u001b[38;5;124m__main__\u001b[39m\u001b[38;5;124m'\u001b[39m:\n\u001b[0;32m     65\u001b[0m     start_time \u001b[38;5;241m=\u001b[39m time\u001b[38;5;241m.\u001b[39mtime()\n\u001b[1;32m---> 66\u001b[0m     \u001b[43mcombine_csvs\u001b[49m\u001b[43m(\u001b[49m\u001b[43mcsv_paths\u001b[49m\u001b[43m)\u001b[49m\n\u001b[0;32m     67\u001b[0m     \u001b[38;5;28mprint\u001b[39m(\u001b[38;5;124m'\u001b[39m\u001b[38;5;124mTime taken:\u001b[39m\u001b[38;5;124m'\u001b[39m, convert_to_preferred_format(time\u001b[38;5;241m.\u001b[39mtime() \u001b[38;5;241m-\u001b[39m start_time))\n",
      "Cell \u001b[1;32mIn[16], line 41\u001b[0m, in \u001b[0;36mcombine_csvs\u001b[1;34m(csv_paths)\u001b[0m\n\u001b[0;32m     39\u001b[0m \u001b[38;5;28;01mdef\u001b[39;00m \u001b[38;5;21mcombine_csvs\u001b[39m(csv_paths):  \u001b[38;5;66;03m# builds the one files from folders\u001b[39;00m\n\u001b[0;32m     40\u001b[0m     \u001b[38;5;28;01mfor\u001b[39;00m csv_path \u001b[38;5;129;01min\u001b[39;00m csv_paths:\n\u001b[1;32m---> 41\u001b[0m         (\u001b[43mconcatinateCSVs\u001b[49m\u001b[43m(\u001b[49m\u001b[43mroot\u001b[49m\u001b[43m \u001b[49m\u001b[38;5;241;43m+\u001b[39;49m\u001b[43m \u001b[49m\u001b[43mcsv_path\u001b[49m\u001b[43m,\u001b[49m\n\u001b[0;32m     42\u001b[0m \u001b[43m                         \u001b[49m\u001b[43mignore_list\u001b[49m\u001b[38;5;241;43m=\u001b[39;49m\u001b[43m[\u001b[49m\u001b[38;5;124;43m'\u001b[39;49m\u001b[38;5;124;43mbattery40.csv\u001b[39;49m\u001b[38;5;124;43m'\u001b[39;49m\u001b[43m,\u001b[49m\u001b[43m \u001b[49m\u001b[38;5;124;43m'\u001b[39;49m\u001b[38;5;124;43mbattery41.csv\u001b[39;49m\u001b[38;5;124;43m'\u001b[39;49m\u001b[43m,\u001b[49m\n\u001b[0;32m     43\u001b[0m \u001b[43m                                      \u001b[49m\u001b[38;5;124;43m'\u001b[39;49m\u001b[38;5;124;43mbattery50.csv\u001b[39;49m\u001b[38;5;124;43m'\u001b[39;49m\u001b[43m,\u001b[49m\u001b[43m \u001b[49m\u001b[38;5;124;43m'\u001b[39;49m\u001b[38;5;124;43mbattery51.csv\u001b[39;49m\u001b[38;5;124;43m'\u001b[39;49m\u001b[43m]\u001b[49m\u001b[43m)\u001b[49m\u001b[38;5;241m.\u001b[39mto_csv(root \u001b[38;5;241m+\u001b[39m csv_path \u001b[38;5;241m+\u001b[39m \u001b[38;5;124m'\u001b[39m\u001b[38;5;124m.csv\u001b[39m\u001b[38;5;124m'\u001b[39m, index\u001b[38;5;241m=\u001b[39m\u001b[38;5;28;01mFalse\u001b[39;00m))\n\u001b[0;32m     45\u001b[0m         \u001b[38;5;66;03m# * 9.30A: Battery pack 0.1 and 1.1\u001b[39;00m\n\u001b[0;32m     46\u001b[0m         \u001b[38;5;66;03m# * 12.9A: Battery pack 3.1 and 2.2\u001b[39;00m\n\u001b[0;32m     47\u001b[0m         \u001b[38;5;66;03m# * 14.3A: Battery pack 2.3 and 5.2\u001b[39;00m\n\u001b[0;32m     48\u001b[0m         \u001b[38;5;66;03m# * 16.0A: Battery pack 0.0 and 1.0\u001b[39;00m\n\u001b[0;32m     49\u001b[0m         \u001b[38;5;66;03m# * 19.0A: Battery pack 2.0, 3.0 and 2.1\u001b[39;00m\n\u001b[0;32m     52\u001b[0m         \u001b[38;5;28;01mreturn\u001b[39;00m\n",
      "Cell \u001b[1;32mIn[16], line 11\u001b[0m, in \u001b[0;36mconcatinateCSVs\u001b[1;34m(folderPath, ignore_list)\u001b[0m\n\u001b[0;32m      9\u001b[0m root \u001b[38;5;241m=\u001b[39m os\u001b[38;5;241m.\u001b[39mpath\u001b[38;5;241m.\u001b[39mdirname(os\u001b[38;5;241m.\u001b[39mpath\u001b[38;5;241m.\u001b[39mrealpath(\u001b[38;5;124m'\u001b[39m\u001b[38;5;124mcsv_combine.py\u001b[39m\u001b[38;5;124m'\u001b[39m))\n\u001b[0;32m     10\u001b[0m warnings\u001b[38;5;241m.\u001b[39mfilterwarnings(\u001b[38;5;124m\"\u001b[39m\u001b[38;5;124mignore\u001b[39m\u001b[38;5;124m\"\u001b[39m)\n\u001b[1;32m---> 11\u001b[0m \u001b[43mos\u001b[49m\u001b[38;5;241;43m.\u001b[39;49m\u001b[43mchdir\u001b[49m\u001b[43m(\u001b[49m\u001b[43mfolderPath\u001b[49m\u001b[43m)\u001b[49m\n\u001b[0;32m     12\u001b[0m \u001b[38;5;66;03m# all the filenames with a .csv format\u001b[39;00m\n\u001b[0;32m     13\u001b[0m allFilenames \u001b[38;5;241m=\u001b[39m [i \u001b[38;5;28;01mfor\u001b[39;00m i \u001b[38;5;129;01min\u001b[39;00m glob\u001b[38;5;241m.\u001b[39mglob(\u001b[38;5;124m\"\u001b[39m\u001b[38;5;124m*.\u001b[39m\u001b[38;5;132;01m{}\u001b[39;00m\u001b[38;5;124m\"\u001b[39m\u001b[38;5;241m.\u001b[39mformat(\u001b[38;5;124m\"\u001b[39m\u001b[38;5;124mcsv\u001b[39m\u001b[38;5;124m\"\u001b[39m))]\n",
      "\u001b[1;31mFileNotFoundError\u001b[0m: [WinError 3] The system cannot find the path specified: 'C:\\\\Users\\\\tyler\\\\.vscode\\\\Capstone\\\\env\\\\18650-Accelerated-Battery-Life-Testing\\\\battery_alt_dataset\\\\second_life_batteries/battery_alt_dataset/regular_alt_batteries'"
     ]
    }
   ],
   "source": [
    "csv_paths = ['/battery_alt_dataset/regular_alt_batteries',\n",
    "             './battery_alt_dataset/second_life_batteries',\n",
    "             './battery_alt_dataset/recommissioned_batteries']\n",
    "\n",
    "root = os.path.dirname(os.path.realpath('csv_combine.py'))\n",
    "\n",
    "def concatinateCSVs(folderPath, ignore_list=[]):  # combines all csv files in a folder into df\n",
    "    # print('concatinating csvs in', folderPath)\n",
    "    root = os.path.dirname(os.path.realpath('csv_combine.py'))\n",
    "    warnings.filterwarnings(\"ignore\")\n",
    "    os.chdir(folderPath)\n",
    "    # all the filenames with a .csv format\n",
    "    allFilenames = [i for i in glob.glob(\"*.{}\".format(\"csv\"))]\n",
    "    combinedFilesData = []\n",
    "    for file in tqdm.tqdm(allFilenames, desc='Combining ' + folderPath.split('/')[-1]):\n",
    "        if file in ignore_list:\n",
    "            continue\n",
    "        try:\n",
    "            df = pd.read_csv(file)\n",
    "            # # drop all rows except the one with the greatest time value\n",
    "            # df = df.drop_duplicates(subset=['time'], keep='last')\n",
    "            combinedFilesData.append(df)\n",
    "        except pd.errors.EmptyDataError:\n",
    "            print(file, \"is empty\")\n",
    "            # os.remove(f)\n",
    "            # print(f, \"has been deleted\")\n",
    "            continue\n",
    "        except pd.errors.ParserError:\n",
    "            print(file, \"parse error\")\n",
    "            continue\n",
    "    try:  # concatinate all csv data in a folder\n",
    "        combinedFilesData = pd.concat([file for file in combinedFilesData], )\n",
    "    except ValueError:\n",
    "        combinedFilesData = []\n",
    "    os.chdir(root)\n",
    "    return pd.DataFrame(combinedFilesData)\n",
    "\n",
    "\n",
    "def combine_csvs(csv_paths):  # builds the one files from folders\n",
    "    for csv_path in csv_paths:\n",
    "        (concatinateCSVs(root + csv_path,\n",
    "                         ignore_list=['battery40.csv', 'battery41.csv',\n",
    "                                      'battery50.csv', 'battery51.csv']).to_csv(root + csv_path + '.csv', index=False))\n",
    "\n",
    "        # * 9.30A: Battery pack 0.1 and 1.1\n",
    "        # * 12.9A: Battery pack 3.1 and 2.2\n",
    "        # * 14.3A: Battery pack 2.3 and 5.2\n",
    "        # * 16.0A: Battery pack 0.0 and 1.0\n",
    "        # * 19.0A: Battery pack 2.0, 3.0 and 2.1\n",
    "\n",
    "\n",
    "        return\n",
    "\n",
    "\n",
    "def convert_to_preferred_format(sec):  # only to be fancy\n",
    "    sec = sec % (24 * 3600)\n",
    "    sec %= 3600\n",
    "    min = sec // 60\n",
    "    sec %= 60\n",
    "    # print(\"seconds value in minutes:\",min)\n",
    "    return \"%02d:%02d\" % (min, sec)\n",
    "\n",
    "\n",
    "if __name__ == '__main__':\n",
    "    start_time = time.time()\n",
    "    combine_csvs(csv_paths)\n",
    "    print('Time taken:', convert_to_preferred_format(time.time() - start_time))\n"
   ]
  },
  {
   "cell_type": "code",
   "execution_count": 16,
   "metadata": {},
   "outputs": [
    {
     "name": "stderr",
     "output_type": "stream",
     "text": [
      "Combining C:\\Users\\tyler\\.vscode\\Capstone\\env\\18650-Accelerated-Battery-Life-Testing.: 100%|██████████| 3/3 [00:00<00:00, 115.01it/s]\n"
     ]
    }
   ],
   "source": [
    "combine_csvs('./battery_alt_dataset/second_life_batteries')"
   ]
  },
  {
   "cell_type": "markdown",
   "metadata": {},
   "source": [
    "### Data Combining\n",
    "\n",
    "Because we are focusing on only the discharge phases, we want to break each of the battery datasets into their discharge phases, and then find the average voltage, temperature, and current for each discharge cycle. Starting, we have to load in the new datasets and process them."
   ]
  },
  {
   "cell_type": "code",
   "execution_count": null,
   "metadata": {},
   "outputs": [],
   "source": [
    "# Numbering each distinct discharge phase\n",
    "def battLabeller(df):\n",
    "    '''\n",
    "    df - battery dataset\n",
    "    feed battery dataset, add column to denote discharge phase\n",
    "    '''\n",
    "    label = 1\n",
    "    df['dischargePhase'] = 0\n",
    "    # for time in range(len(df['start_time'])-1):\n",
    "    for time in tqdm(range(len(df['start_time'])-1), total=len(df['start_time'])-1):\n",
    "        if df['mode'][time] == -1:\n",
    "            df.at[time, 'dischargePhase'] = label\n",
    "            if df['mode'][time+1] == 0 or df['mode'][time+1] == 1:\n",
    "                label += 1\n",
    "    return df"
   ]
  },
  {
   "cell_type": "code",
   "execution_count": null,
   "metadata": {},
   "outputs": [],
   "source": [
    "# This function calculates the time it takes the battery pack in a phase to\n",
    "# discharge its charge\n",
    "def timeFinder(df):\n",
    "    '''\n",
    "    df - dataframe\n",
    "    takes dataframe and finds time from start of phase to end of phase\n",
    "    '''\n",
    "    df['startTime'] = 0\n",
    "    df['finishTime'] = 0\n",
    "    #for phase in df['dischargePhase'].unique():\n",
    "    for phase in tqdm(df['dischargePhase'].unique(), total=len(df['dischargePhase'].unique())):\n",
    "        currPhase = df[df['dischargePhase'] == phase]\n",
    "        #print(currPhase)\n",
    "        #print(phase)\n",
    "        # Find start and end time\n",
    "        start = currPhase['time'].iloc[0] \n",
    "        finish = currPhase['time'].iloc[-1]\n",
    "        \n",
    "        # Update start and end time\n",
    "        df.loc[df['dischargePhase'] == phase, 'startTime'] = start\n",
    "        df.loc[df['dischargePhase'] == phase, 'finishTime'] = finish\n",
    "    return df"
   ]
  },
  {
   "cell_type": "code",
   "execution_count": null,
   "metadata": {},
   "outputs": [],
   "source": [
    "def process_battery_data(df):\n",
    "    '''\n",
    "    Takes in df of battery data and reduces each phase\n",
    "    to a single row, averaging temp, voltage, and current\n",
    "    and finding the time to death for each discharge phase\n",
    "    \n",
    "    Parameters:\n",
    "    df (dataFrame): input df of battery data sent through\n",
    "    battLabeller and timeFinder\n",
    "    \n",
    "    Returns:\n",
    "    df (transformed): averaged values and new column\n",
    "    end_time which is the difference of finishTime and startTime\n",
    "    '''\n",
    "    # Run battery df through functions time_end via difference\n",
    "    df = battLabeller(df)\n",
    "    df = df[df['mode'] != 0]\n",
    "    df = df[df['mode'] != 1]\n",
    "    df = timeFinder(df)\n",
    "    cols = ['voltage_charger','temperature_battery','current_load','dischargePhase','startTime','finishTime']\n",
    "    df = df[cols]\n",
    "    df = df.dropna(subset=['dischargePhase'])\n",
    "    \n",
    "    df['time_end'] = (df['finishTime'] - df['startTime'])\n",
    "    \n",
    "    # Cast columns to floats\n",
    "    numeric_cols = ['voltage_charger','temperature_battery','current_load']\n",
    "    for col in numeric_cols:\n",
    "        df[col] = pd.to_numeric(df[col],errors = 'coerce')\n",
    "    \n",
    "    # Group by dischargePhase and aggregate other columns\n",
    "    aggregated_df = df.groupby('dischargePhase').agg({\n",
    "        'voltage_charger':'mean',\n",
    "        'temperature_battery':'mean',\n",
    "        'current_load':'mean',\n",
    "        'time_end':'first'\n",
    "    }).reset_index()\n",
    "    aggregated_df['mode'] = 1\n",
    "    \n",
    "    return aggregated_df"
   ]
  },
  {
   "cell_type": "code",
   "execution_count": null,
   "metadata": {},
   "outputs": [],
   "source": [
    "# Read in combined csvs\n",
    "regular = pd.read_csv('.\\\\battery_alt_dataset\\\\regular_alt_batteries.csv')\n",
    "second = pd.read_csv('.\\\\battery_alt_dataset\\\\second_life_batteries.csv')\n",
    "recommissioned = pd.read_csv('.\\\\battery_alt_dataset\\\\recommissioned_batteries.csv')\n",
    "\n",
    "# Run through the battery data processor\n",
    "regular = process_battery_data(regular)\n",
    "second = process_battery_data(second)\n",
    "recommissioned = process_battery_data(recommissioned)\n",
    "\n",
    "# Write to new csvs\n",
    "regular.to_csv('regular.csv')\n",
    "second.to_csv('second.csv')\n",
    "recommissioned.to_csv('recommissioned')"
   ]
  },
  {
   "cell_type": "markdown",
   "metadata": {},
   "source": [
    "## Survival Analysis\n",
    "\n",
    "All of the survival analysis done on these data was performed in R, due to our group's familiarity with working in the language with survival analysis. Thus, the next sections of this notebook will not be able to render the work we did, but the R markdowns will be included as part of the submission."
   ]
  }
 ],
 "metadata": {
  "kernelspec": {
   "display_name": "Python 3",
   "language": "python",
   "name": "python3"
  },
  "language_info": {
   "codemirror_mode": {
    "name": "ipython",
    "version": 3
   },
   "file_extension": ".py",
   "mimetype": "text/x-python",
   "name": "python",
   "nbconvert_exporter": "python",
   "pygments_lexer": "ipython3",
   "version": "3.12.4"
  }
 },
 "nbformat": 4,
 "nbformat_minor": 2
}
