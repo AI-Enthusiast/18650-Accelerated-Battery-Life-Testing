{
 "cells": [
  {
   "cell_type": "markdown",
   "metadata": {},
   "source": [
    "# 18650 Battery Life: Survival Analysis vs Machine Learning\n",
    "\n",
    "### Aryan Bhardwaj, Cormac Dacker, Tyler Gomez Riddick, Avery Pike\n",
    "\n",
    "## Data Preprocessing\n",
    "\n",
    "### Data Loading"
   ]
  },
  {
   "cell_type": "markdown",
   "metadata": {},
   "source": [
    "The data for this project are the entire life-cycle of 26 battery packs consisting of two 18650 battery, which are rechargeable lithium-ion batteries. Each of the 26 battery packs has its own dedicated CSV, recording data about the battery once per second during the charging, rest, and discharging phases. Because there are only 26 battery packs in these data, we decided to focus on the discharge phases only, as each battery pack has several discharge phases through it's lifecycle. First though, we have to load in the data, and there is a lot of it (a few million rows per csv on average).\n",
    "\n",
    "Because all of the battery data were stored in separate CSVs, we first needed to combine each group (regular, second life, recommissioned) into their own CSV consisting of all of the battery packs in that dataset."
   ]
  },
  {
   "cell_type": "code",
   "execution_count": 2,
   "metadata": {},
   "outputs": [],
   "source": [
    "import os\n",
    "import glob  # pip install glob2\n",
    "import pandas as pd\n",
    "import warnings\n",
    "import time\n",
    "import tqdm  # pip install tqdm\n",
    "import numpy as np\n"
   ]
  },
  {
   "cell_type": "code",
   "execution_count": 3,
   "metadata": {},
   "outputs": [
    {
     "name": "stdout",
     "output_type": "stream",
     "text": [
      "/Users/leotyler/venv/GitHub/18650-Accelerated-Battery-Life-Testing\n"
     ]
    }
   ],
   "source": [
    "print(os.getcwd())"
   ]
  },
  {
   "cell_type": "code",
   "execution_count": 17,
   "metadata": {},
   "outputs": [
    {
     "name": "stdout",
     "output_type": "stream",
     "text": [
      "/Users/leotyler/venv/GitHub/18650-Accelerated-Battery-Life-Testing\n",
      "/Users/leotyler/venv/GitHub/18650-Accelerated-Battery-Life-Testing\n"
     ]
    },
    {
     "name": "stderr",
     "output_type": "stream",
     "text": [
      "Combining regular_alt_batteries: 100%|██████████| 15/15 [00:07<00:00,  2.12it/s]\n"
     ]
    },
    {
     "name": "stdout",
     "output_type": "stream",
     "text": [
      "Time taken: 01:01\n"
     ]
    }
   ],
   "source": [
    "csv_paths = ['/battery_alt_dataset/regular_alt_batteries',\n",
    "             #'/battery_alt_dataset/second_life_batteries',\n",
    "             #'/battery_alt_dataset/recommissioned_batteries'\n",
    "]\n",
    "\n",
    "#root = os.path.dirname(os.path.abspath('csv_combine.py'))\n",
    "root = os.getcwd()\n",
    "print(root)\n",
    "\n",
    "\n",
    "def concatinateCSVs(folderPath, ignore_list=[]):  # combines all csv files in a folder into df\n",
    "    # print('concatinating csvs in', folderPath)\n",
    "    #root = os.path.dirname(os.path.realpath('csv_combine.py'))\n",
    "    print(root)\n",
    "    warnings.filterwarnings(\"ignore\")\n",
    "    os.chdir(folderPath)\n",
    "    # all the filenames with a .csv format\n",
    "    allFilenames = [i for i in glob.glob(\"*.{}\".format(\"csv\"))]\n",
    "    combinedFilesData = []\n",
    "    for file in tqdm.tqdm(allFilenames, desc='Combining ' + folderPath.split('/')[-1]):\n",
    "        if file in ignore_list:\n",
    "            continue\n",
    "        try:\n",
    "            df = pd.read_csv(file)\n",
    "            # # drop all rows except the one with the greatest time value\n",
    "            # df = df.drop_duplicates(subset=['time'], keep='last')\n",
    "            combinedFilesData.append(df)\n",
    "        except pd.errors.EmptyDataError:\n",
    "            print(file, \"is empty\")\n",
    "            # os.remove(f)\n",
    "            # print(f, \"has been deleted\")\n",
    "            continue\n",
    "        except pd.errors.ParserError:\n",
    "            print(file, \"parse error\")\n",
    "            continue\n",
    "    try:  # concatinate all csv data in a folder\n",
    "        combinedFilesData = pd.concat([file for file in combinedFilesData], )\n",
    "    except ValueError:\n",
    "        combinedFilesData = []\n",
    "    os.chdir(root)\n",
    "    return pd.DataFrame(combinedFilesData)\n",
    "\n",
    "\n",
    "def combine_csvs(csv_paths):  # builds the one files from folders\n",
    "    for csv_path in csv_paths:\n",
    "        (concatinateCSVs(root + csv_path,\n",
    "                         ignore_list=['battery40.csv', 'battery41.csv',\n",
    "                                      'battery50.csv', 'battery51.csv']).to_csv(root + csv_path + '.csv', index=False))\n",
    "\n",
    "        # * 9.30A: Battery pack 0.1 and 1.1\n",
    "        # * 12.9A: Battery pack 3.1 and 2.2\n",
    "        # * 14.3A: Battery pack 2.3 and 5.2\n",
    "        # * 16.0A: Battery pack 0.0 and 1.0\n",
    "        # * 19.0A: Battery pack 2.0, 3.0 and 2.1\n",
    "\n",
    "\n",
    "        return\n",
    "\n",
    "\n",
    "def convert_to_preferred_format(sec):  # only to be fancy\n",
    "    sec = sec % (24 * 3600)\n",
    "    sec %= 3600\n",
    "    min = sec // 60\n",
    "    sec %= 60\n",
    "    # print(\"seconds value in minutes:\",min)\n",
    "    return \"%02d:%02d\" % (min, sec)\n",
    "\n",
    "\n",
    "if __name__ == '__main__':\n",
    "    start_time = time.time()\n",
    "    combine_csvs(csv_paths)\n",
    "    print('Time taken:', convert_to_preferred_format(time.time() - start_time))\n"
   ]
  },
  {
   "cell_type": "markdown",
   "metadata": {},
   "source": [
    "### Data Combining: Reducing Dischrge Phases\n",
    "\n",
    "Because we are focusing on only the discharge phases, we want to break each of the battery datasets into their discharge phases, and then find the average voltage, temperature, and current for each discharge cycle. This will reduce each discharge phase down to a single row instead of the millions we have. To start, we have to load in the new datasets and process them."
   ]
  },
  {
   "cell_type": "code",
   "execution_count": 20,
   "metadata": {},
   "outputs": [],
   "source": [
    "# Numbering each distinct discharge phase\n",
    "def battLabeller(df):\n",
    "    '''\n",
    "    df - battery dataset\n",
    "    feed battery dataset, add column to denote discharge phase\n",
    "    '''\n",
    "    label = 1\n",
    "    df['dischargePhase'] = 0\n",
    "    # for time in range(len(df['start_time'])-1):\n",
    "    for time in tqdm.tqdm(range(len(df['start_time'])-1), total=len(df['start_time'])-1):\n",
    "        if df['mode'][time] == -1:\n",
    "            df.at[time, 'dischargePhase'] = label\n",
    "            if df['mode'][time+1] == 0 or df['mode'][time+1] == 1:\n",
    "                label += 1\n",
    "    return df"
   ]
  },
  {
   "cell_type": "code",
   "execution_count": 21,
   "metadata": {},
   "outputs": [],
   "source": [
    "# This function calculates the time it takes the battery pack in a phase to\n",
    "# discharge its charge\n",
    "def timeFinder(df):\n",
    "    '''\n",
    "    df - dataframe\n",
    "    takes dataframe and finds time from start of phase to end of phase\n",
    "    '''\n",
    "    df['startTime'] = 0\n",
    "    df['finishTime'] = 0\n",
    "    #for phase in df['dischargePhase'].unique():\n",
    "    for phase in tqdm.tqdm(df['dischargePhase'].unique(), total=len(df['dischargePhase'].unique())):\n",
    "        currPhase = df[df['dischargePhase'] == phase]\n",
    "        #print(currPhase)\n",
    "        #print(phase)\n",
    "        # Find start and end time\n",
    "        start = currPhase['time'].iloc[0] \n",
    "        finish = currPhase['time'].iloc[-1]\n",
    "        \n",
    "        # Update start and end time\n",
    "        df.loc[df['dischargePhase'] == phase, 'startTime'] = start\n",
    "        df.loc[df['dischargePhase'] == phase, 'finishTime'] = finish\n",
    "    return df"
   ]
  },
  {
   "cell_type": "code",
   "execution_count": 22,
   "metadata": {},
   "outputs": [],
   "source": [
    "def process_battery_data(df):\n",
    "    '''\n",
    "    Takes in df of battery data and reduces each phase\n",
    "    to a single row, averaging temp, voltage, and current\n",
    "    and finding the time to death for each discharge phase\n",
    "    \n",
    "    Parameters:\n",
    "    df (dataFrame): input df of battery data sent through\n",
    "    battLabeller and timeFinder\n",
    "    \n",
    "    Returns:\n",
    "    df (transformed): averaged values and new column\n",
    "    end_time which is the difference of finishTime and startTime\n",
    "    '''\n",
    "    # Run battery df through functions time_end via difference\n",
    "    df = battLabeller(df)\n",
    "    df = df[df['mode'] != 0]\n",
    "    df = df[df['mode'] != 1]\n",
    "    df = timeFinder(df)\n",
    "    cols = ['voltage_charger','temperature_battery','current_load','dischargePhase','startTime','finishTime']\n",
    "    df = df[cols]\n",
    "    df = df.dropna(subset=['dischargePhase'])\n",
    "    \n",
    "    df['time_end'] = (df['finishTime'] - df['startTime'])\n",
    "    \n",
    "    # Cast columns to floats\n",
    "    numeric_cols = ['voltage_charger','temperature_battery','current_load']\n",
    "    for col in numeric_cols:\n",
    "        df[col] = pd.to_numeric(df[col],errors = 'coerce')\n",
    "    \n",
    "    # Group by dischargePhase and aggregate other columns\n",
    "    aggregated_df = df.groupby('dischargePhase').agg({\n",
    "        'voltage_charger':'mean',\n",
    "        'temperature_battery':'mean',\n",
    "        'current_load':'mean',\n",
    "        'time_end':'first'\n",
    "    }).reset_index()\n",
    "    aggregated_df['mode'] = 1\n",
    "    \n",
    "    return aggregated_df"
   ]
  },
  {
   "cell_type": "code",
   "execution_count": 24,
   "metadata": {},
   "outputs": [
    {
     "name": "stderr",
     "output_type": "stream",
     "text": [
      "100%|██████████| 22063907/22063907 [01:13<00:00, 302151.92it/s]\n",
      "100%|██████████| 3826/3826 [00:18<00:00, 211.45it/s]\n",
      "100%|██████████| 7119971/7119971 [00:29<00:00, 238687.89it/s]\n",
      "100%|██████████| 1405/1405 [00:02<00:00, 482.27it/s]\n",
      "100%|██████████| 18051059/18051059 [01:03<00:00, 282360.56it/s]\n",
      "100%|██████████| 3626/3626 [00:15<00:00, 234.41it/s]\n"
     ]
    }
   ],
   "source": [
    "# Read in combined csvs\n",
    "regular = pd.read_csv('battery_alt_dataset/regular_alt_batteries.csv')\n",
    "second = pd.read_csv('battery_alt_dataset/second_life_batteries.csv')\n",
    "recommissioned = pd.read_csv('battery_alt_dataset/recommissioned_batteries.csv')\n",
    "\n",
    "# Run through the battery data processor\n",
    "regular = process_battery_data(regular)\n",
    "second = process_battery_data(second)\n",
    "recommissioned = process_battery_data(recommissioned)\n",
    "\n",
    "# Write to new csvs\n",
    "regular.to_csv('regular.csv')\n",
    "second.to_csv('second.csv')\n",
    "recommissioned.to_csv('recommissioned.csv')"
   ]
  },
  {
   "cell_type": "markdown",
   "metadata": {},
   "source": [
    "# Survival Analysis and Weibull Regression\n",
    "\n",
    "All of the survival analysis done on these data was performed in R, due to our group's familiarity with working in the language with survival analysis. Thus, the next sections of this notebook will not be able to render the work we did, but the R markdowns will be included as part of the submission."
   ]
  },
  {
   "cell_type": "markdown",
   "metadata": {},
   "source": [
    "```{r}\n",
    "library(fitdistrplus)\n",
    "library(survminer)\n",
    "library(tidyverse)\n",
    "library(ggplot2)\n",
    "library(survival)\n",
    "library(skimr)\n",
    "\n",
    "regular = read_csv('regular.csv')\n",
    "recom = read_csv('recommissioned.csv')\n",
    "second = read_csv('second.csv')\n",
    "```\n",
    "\n",
    "Filtering out times shorter than 10 seconds or NaN values, and temperatures measured at 0. Calculating the Arrhenius temperature and the log voltage for use in the survival analysis models. Additionally, adding in a column for failure (needed for the survival analysis). Assume everywhere \"data\" occurs that it is filled with one of the three battery DataFrames.\n",
    "\n",
    "```{r}\n",
    "# filter out temps < 0\n",
    "data = data %>% filter(temperature_battery > 0)\n",
    "\n",
    "# drop times at 0\n",
    "data = data %>% filter(time_end > 10)\n",
    "\n",
    "# add a col for failure (they all failed)\n",
    "data$failure = 1\n",
    "\n",
    "# drop instances where time_end is NA or 0\n",
    "data = data %>% filter(!is.na(time_end) & time_end != 0)\n",
    "```\n",
    "\n",
    "Performing the Weibull regression using the current_load, log_volt, and arr_temp columns. No interaction terms. Values shown below are for the regular batteries (regular.csv)\n",
    "\n",
    "```{r}\n",
    "weibull_fit = survreg(Surv(time_end, failure) ~ current_load +\n",
    "  log_volt +\n",
    "  arr_temp\n",
    "                      , data = data, dist = \"weibull\")\n",
    "summary(weibull_fit)\n",
    "```\n",
    "```{r}\n",
    "                        Value Std. Error       z       p\n",
    "(Intercept)          2.640372   0.140380   18.81 < 2e-16\n",
    "current_load        -0.081932   0.001081  -75.79 < 2e-16\n",
    "voltage_charger      0.780425   0.020004   39.01 < 2e-16\n",
    "temperature_battery -0.001641   0.000416   -3.95 7.9e-05\n",
    "Log(scale)          -1.754017   0.011486 -152.71 < 2e-16\n",
    "\n",
    "Scale= 0.173 \n",
    "\n",
    "Weibull distribution\n",
    "Loglik(model)= -23355.7   Loglik(intercept only)= -27754.5\n",
    "\tChisq= 8797.56 on 3 degrees of freedom, p= 0 \n",
    "Number of Newton-Raphson Iterations: 9 \n",
    "n= 3743 \n",
    "```\n",
    "\n",
    "Next, computing the relevant model metrics: mean squared error (MSE), Akaike information criterion (AIC), and R-squared. Below are the results for the regular batteries. The submitted R-markdown file will show the results for all three datasets.\n",
    "\n",
    "```{r}\n",
    "model_metrics = function(model, regular) {\n",
    "  pred = predict(model, type = \"response\")\n",
    "  mse = mean((pred - regular$time_end)^2)\n",
    "  aic = AIC(model)\n",
    "  r2 = 1 - mse / var(regular$time_end)\n",
    "  print(\"MSE:\")\n",
    "  print(mse)\n",
    "  print(\"AIC:\")\n",
    "  print(aic)\n",
    "  print(\"R^2:\")\n",
    "  print(r2)\n",
    "  return(c(mse, aic, r2))\n",
    "}\n",
    "model_metrics(weibull_fit, regular)\n",
    "\n",
    "[1] \"MSE:\"\n",
    "[1] 42707.18\n",
    "[1] \"AIC:\"\n",
    "[1] 46756.98\n",
    "[1] \"R^2:\"\n",
    "[1] 0.8550565\n",
    "[1] 4.270718e+04 4.675698e+04 8.550565e-01\n",
    "```"
   ]
  },
  {
   "cell_type": "markdown",
   "metadata": {},
   "source": [
    "# Maching Learning Models\n",
    "\n",
    "We focused on three models of increasing complexity: linear regression, random forest, and neural networks. We used the classifiers from sklearn for linear regression and random forest, and tensorflow for the neural network. For each of these, we wanted to find the $MSE$, $AIC$, and $R^2$ terms. Below is the code for each model."
   ]
  },
  {
   "cell_type": "code",
   "execution_count": 30,
   "metadata": {},
   "outputs": [],
   "source": [
    "regular = pd.read_csv('regular.csv')\n",
    "recomissioned = pd.read_csv('recommissioned.csv')\n",
    "second = pd.read_csv('second.csv')"
   ]
  },
  {
   "cell_type": "markdown",
   "metadata": {},
   "source": [
    "Below is some cleaning code.\n",
    "\n",
    "### Cleaning - Regular"
   ]
  },
  {
   "cell_type": "code",
   "execution_count": 50,
   "metadata": {},
   "outputs": [
    {
     "name": "stdout",
     "output_type": "stream",
     "text": [
      "<class 'pandas.core.frame.DataFrame'>\n",
      "Index: 3743 entries, 0 to 3825\n",
      "Data columns (total 10 columns):\n",
      " #   Column                 Non-Null Count  Dtype  \n",
      "---  ------                 --------------  -----  \n",
      " 0   Unnamed: 0             3743 non-null   int64  \n",
      " 1   dischargePhase         3743 non-null   int64  \n",
      " 2   voltage_charger        3743 non-null   float64\n",
      " 3   temperature_battery    3743 non-null   float64\n",
      " 4   current_load           3743 non-null   float64\n",
      " 5   time_end               3743 non-null   float64\n",
      " 6   mode                   3743 non-null   int64  \n",
      " 7   arrhenius_temperature  3743 non-null   float64\n",
      " 8   log_voltage            3743 non-null   float64\n",
      " 9   temp_volt              3743 non-null   float64\n",
      "dtypes: float64(7), int64(3)\n",
      "memory usage: 321.7 KB\n"
     ]
    }
   ],
   "source": [
    "# Adding in the calculated Arrhenius temperature and log voltage columns\n",
    "\n",
    "regular['arrhenius_temperature'] = 11605 / (regular['temperature_battery'] + 273.15)\n",
    "\n",
    "regular['log_voltage'] = np.log10(regular['voltage_charger'])\n",
    "\n",
    "# Filtering temperatures above 0 and ending times greater than 10 seconds\n",
    "\n",
    "regular = regular[regular['temperature_battery'] > 0]\n",
    "\n",
    "regular = regular[regular['time_end'] > 10]\n",
    "\n",
    "regular['temp_volt'] = regular['arrhenius_temperature'] * regular['log_voltage']\n",
    "\n",
    "regular.info()"
   ]
  },
  {
   "cell_type": "code",
   "execution_count": 32,
   "metadata": {},
   "outputs": [
    {
     "data": {
      "text/plain": [
       "Unnamed: 0               0\n",
       "dischargePhase           0\n",
       "voltage_charger          0\n",
       "temperature_battery      0\n",
       "current_load             0\n",
       "time_end                 0\n",
       "mode                     0\n",
       "arrhenius_temperature    0\n",
       "log_voltage              0\n",
       "dtype: int64"
      ]
     },
     "execution_count": 32,
     "metadata": {},
     "output_type": "execute_result"
    }
   ],
   "source": [
    "regular.isnull().sum()"
   ]
  },
  {
   "cell_type": "markdown",
   "metadata": {},
   "source": [
    "### Cleaning - Second Life"
   ]
  },
  {
   "cell_type": "code",
   "execution_count": 49,
   "metadata": {},
   "outputs": [
    {
     "name": "stdout",
     "output_type": "stream",
     "text": [
      "<class 'pandas.core.frame.DataFrame'>\n",
      "Index: 1393 entries, 0 to 1404\n",
      "Data columns (total 10 columns):\n",
      " #   Column                 Non-Null Count  Dtype  \n",
      "---  ------                 --------------  -----  \n",
      " 0   Unnamed: 0             1393 non-null   int64  \n",
      " 1   dischargePhase         1393 non-null   int64  \n",
      " 2   voltage_charger        1393 non-null   float64\n",
      " 3   temperature_battery    1393 non-null   float64\n",
      " 4   current_load           1393 non-null   float64\n",
      " 5   time_end               1393 non-null   float64\n",
      " 6   mode                   1393 non-null   int64  \n",
      " 7   arrhenius_temperature  1393 non-null   float64\n",
      " 8   log_voltage            1393 non-null   float64\n",
      " 9   temp_volt              1393 non-null   float64\n",
      "dtypes: float64(7), int64(3)\n",
      "memory usage: 119.7 KB\n"
     ]
    }
   ],
   "source": [
    "second['arrhenius_temperature'] = 11605/(second['temperature_battery'] + 273.15)\n",
    "\n",
    "#adding log_voltage column\n",
    "second['log_voltage'] = np.log10(second['voltage_charger']) \n",
    "\n",
    "second['temp_volt'] = second['arrhenius_temperature'] * second['log_voltage']\n",
    "\n",
    "second = second[second['temperature_battery'] > 0]\n",
    "\n",
    "second = second[second['time_end'] > 10]\n",
    "\n",
    "#display first few rows\n",
    "second.info()"
   ]
  },
  {
   "cell_type": "code",
   "execution_count": 34,
   "metadata": {},
   "outputs": [
    {
     "data": {
      "text/plain": [
       "Unnamed: 0               0\n",
       "dischargePhase           0\n",
       "voltage_charger          0\n",
       "temperature_battery      0\n",
       "current_load             0\n",
       "time_end                 0\n",
       "mode                     0\n",
       "arrhenius_temperature    0\n",
       "log_voltage              0\n",
       "dtype: int64"
      ]
     },
     "execution_count": 34,
     "metadata": {},
     "output_type": "execute_result"
    }
   ],
   "source": [
    "second.isnull().sum()"
   ]
  },
  {
   "cell_type": "markdown",
   "metadata": {},
   "source": [
    "### Cleaning - Recomissioned"
   ]
  },
  {
   "cell_type": "code",
   "execution_count": 48,
   "metadata": {},
   "outputs": [
    {
     "name": "stdout",
     "output_type": "stream",
     "text": [
      "<class 'pandas.core.frame.DataFrame'>\n",
      "Index: 3534 entries, 0 to 3625\n",
      "Data columns (total 10 columns):\n",
      " #   Column                 Non-Null Count  Dtype  \n",
      "---  ------                 --------------  -----  \n",
      " 0   Unnamed: 0             3534 non-null   int64  \n",
      " 1   dischargePhase         3534 non-null   int64  \n",
      " 2   voltage_charger        3534 non-null   float64\n",
      " 3   temperature_battery    3534 non-null   float64\n",
      " 4   current_load           3534 non-null   float64\n",
      " 5   time_end               3534 non-null   float64\n",
      " 6   mode                   3534 non-null   int64  \n",
      " 7   arrhenius_temperature  3534 non-null   float64\n",
      " 8   log_voltage            3534 non-null   float64\n",
      " 9   temp_volt              3534 non-null   float64\n",
      "dtypes: float64(7), int64(3)\n",
      "memory usage: 303.7 KB\n"
     ]
    }
   ],
   "source": [
    "#adding arrhenius temperature column\n",
    "recomissioned['arrhenius_temperature'] = 11605/(recomissioned['temperature_battery'] + 273.15)\n",
    "\n",
    "#adding log voltage columns\n",
    "recomissioned['log_voltage'] = np.log10(recomissioned['voltage_charger'])\n",
    "\n",
    "recomissioned['temp_volt'] = recomissioned['arrhenius_temperature'] * recomissioned['log_voltage']\n",
    "\n",
    "recomissioned = recomissioned[recomissioned['temperature_battery'] > 0]\n",
    "\n",
    "recomissioned = recomissioned[recomissioned['time_end'] > 10]\n",
    "\n",
    "#display first few rows\n",
    "recomissioned.info()"
   ]
  },
  {
   "cell_type": "code",
   "execution_count": 44,
   "metadata": {},
   "outputs": [
    {
     "data": {
      "text/plain": [
       "Unnamed: 0               0\n",
       "dischargePhase           0\n",
       "voltage_charger          0\n",
       "temperature_battery      0\n",
       "current_load             0\n",
       "time_end                 0\n",
       "mode                     0\n",
       "arrhenius_temperature    0\n",
       "log_voltage              0\n",
       "temp_volt                0\n",
       "dtype: int64"
      ]
     },
     "execution_count": 44,
     "metadata": {},
     "output_type": "execute_result"
    }
   ],
   "source": [
    "recomissioned.isnull().sum()"
   ]
  },
  {
   "cell_type": "code",
   "execution_count": 37,
   "metadata": {},
   "outputs": [],
   "source": [
    "# Dropping one row with invalid log voltage\n",
    "recomissioned = recomissioned.dropna(subset=['log_voltage'])"
   ]
  },
  {
   "cell_type": "markdown",
   "metadata": {},
   "source": [
    "## Linear Regression\n",
    "\n",
    "### Regular Batteries"
   ]
  },
  {
   "cell_type": "code",
   "execution_count": 55,
   "metadata": {},
   "outputs": [
    {
     "name": "stdout",
     "output_type": "stream",
     "text": [
      "Mean Square Error: 33084.62801462147\n",
      "AIC Score: 7804.711208251066\n",
      "R^2 Score: 0.9098979700916326\n"
     ]
    }
   ],
   "source": [
    "from sklearn.model_selection import train_test_split\n",
    "from sklearn.linear_model import LinearRegression\n",
    "from sklearn.metrics import mean_squared_error, r2_score\n",
    "\n",
    "# Splitting data into features and target\n",
    "X = regular[['arrhenius_temperature', 'log_voltage', 'current_load','temp_volt']]\n",
    "y = regular['time_end']\n",
    "\n",
    "# Train-test split\n",
    "X_train, X_test, y_train, y_test = train_test_split(X, y, test_size=0.2, random_state=42)\n",
    "\n",
    "# Linear regression model\n",
    "lr_model = LinearRegression()\n",
    "lr_model.fit(X_train, y_train)\n",
    "\n",
    "# Predictions\n",
    "y_pred = lr_model.predict(X_test)\n",
    "\n",
    "# Evaluation\n",
    "#evaluations\n",
    "mse = mean_squared_error(y_test, y_pred)\n",
    "r2 = r2_score(y_test, y_pred)\n",
    "n = len(y_test)\n",
    "rss = np.sum((y_test-y_pred)**2)\n",
    "k = X_train.shape[1] + 1\n",
    "aic = n * np.log(rss / n) +2 * k\n",
    "print(f'Mean Square Error: {mse}')\n",
    "print(f'AIC Score: {aic}')\n",
    "print(f'R^2 Score: {r2}')"
   ]
  },
  {
   "cell_type": "markdown",
   "metadata": {},
   "source": [
    "### Second Life Batteries"
   ]
  },
  {
   "cell_type": "code",
   "execution_count": 59,
   "metadata": {},
   "outputs": [
    {
     "name": "stdout",
     "output_type": "stream",
     "text": [
      "Mean Square Error: 7373.967396980429\n",
      "AIC Score: 2494.6934129247543\n",
      "R^2 Score: 0.960621393045031\n"
     ]
    }
   ],
   "source": [
    "#splitting data into feature and target\n",
    "X = second[['arrhenius_temperature', 'log_voltage' ,  'current_load' , 'temp_volt']]\n",
    "y = second['time_end']\n",
    "\n",
    "#train test split\n",
    "X_train, X_test, y_train, y_test = train_test_split(X, y, test_size=0.2, random_state=42)\n",
    "\n",
    "#linear regression model\n",
    "lr_model = LinearRegression()\n",
    "lr_model.fit(X_train, y_train)\n",
    "\n",
    "#predictions\n",
    "y_pred = lr_model.predict(X_test)\n",
    "\n",
    "#evaluations\n",
    "mse = mean_squared_error(y_test, y_pred)\n",
    "r2 = r2_score(y_test, y_pred)\n",
    "n = len(y_test)\n",
    "rss = np.sum((y_test-y_pred)**2)\n",
    "k = X_train.shape[1] + 1\n",
    "aic = n * np.log(rss / n) +2 * k\n",
    "print(f'Mean Square Error: {mse}')\n",
    "print(f'AIC Score: {aic}')\n",
    "print(f'R^2 Score: {r2}')"
   ]
  },
  {
   "cell_type": "markdown",
   "metadata": {},
   "source": [
    "### Recommissioned Batteries"
   ]
  },
  {
   "cell_type": "code",
   "execution_count": 56,
   "metadata": {},
   "outputs": [
    {
     "name": "stdout",
     "output_type": "stream",
     "text": [
      "Mean Square Error: 22234.531893886804\n",
      "AIC Score: 7086.647107987738\n",
      "R^2 Score: 0.9306571035509208\n"
     ]
    }
   ],
   "source": [
    "#splitting data into feature and target\n",
    "X = recomissioned[['arrhenius_temperature' , 'log_voltage' , 'current_load','temp_volt']]\n",
    "y = recomissioned['time_end']\n",
    "\n",
    "#train test split\n",
    "X_train, X_test, y_train, y_test = train_test_split(X, y, test_size=0.2, random_state=42)\n",
    "\n",
    "#linear regression model\n",
    "lr_model = LinearRegression()\n",
    "lr_model.fit(X_train, y_train)\n",
    "\n",
    "#predictions\n",
    "y_pred = lr_model.predict(X_test)\n",
    "\n",
    "#evaluations\n",
    "mse = mean_squared_error(y_test, y_pred)\n",
    "r2 = r2_score(y_test, y_pred)\n",
    "n = len(y_test)\n",
    "rss = np.sum((y_test-y_pred)**2)\n",
    "k = X_train.shape[1] + 1\n",
    "aic = n * np.log(rss / n) +2 * k\n",
    "print(f'Mean Square Error: {mse}')\n",
    "print(f'AIC Score: {aic}')\n",
    "print(f'R^2 Score: {r2}')"
   ]
  }
 ],
 "metadata": {
  "kernelspec": {
   "display_name": "Python 3",
   "language": "python",
   "name": "python3"
  },
  "language_info": {
   "codemirror_mode": {
    "name": "ipython",
    "version": 3
   },
   "file_extension": ".py",
   "mimetype": "text/x-python",
   "name": "python",
   "nbconvert_exporter": "python",
   "pygments_lexer": "ipython3",
   "version": "3.12.4"
  }
 },
 "nbformat": 4,
 "nbformat_minor": 2
}
